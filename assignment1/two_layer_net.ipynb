{
 "cells": [
  {
   "cell_type": "markdown",
   "metadata": {},
   "source": [
    "# Implementing a Neural Network\n",
    "In this exercise we will develop a neural network with fully-connected layers to perform classification, and test it out on the CIFAR-10 dataset."
   ]
  },
  {
   "cell_type": "code",
   "execution_count": 66,
   "metadata": {},
   "outputs": [
    {
     "name": "stdout",
     "output_type": "stream",
     "text": [
      "The autoreload extension is already loaded. To reload it, use:\n",
      "  %reload_ext autoreload\n"
     ]
    }
   ],
   "source": [
    "# A bit of setup\n",
    "from __future__ import print_function\n",
    "import numpy as np\n",
    "import matplotlib.pyplot as plt\n",
    "\n",
    "from cs231n.classifiers.neural_net import TwoLayerNet\n",
    "\n",
    "%matplotlib inline\n",
    "plt.rcParams['figure.figsize'] = (10.0, 8.0) # set default size of plots\n",
    "plt.rcParams['image.interpolation'] = 'nearest'\n",
    "plt.rcParams['image.cmap'] = 'gray'\n",
    "\n",
    "# for auto-reloading external modules\n",
    "# see http://stackoverflow.com/questions/1907993/autoreload-of-modules-in-ipython\n",
    "%load_ext autoreload\n",
    "%autoreload 2\n",
    "\n",
    "def rel_error(x, y):\n",
    "    \"\"\" returns relative error \"\"\"\n",
    "    return np.max(np.abs(x - y) / (np.maximum(1e-8, np.abs(x) + np.abs(y))))"
   ]
  },
  {
   "cell_type": "markdown",
   "metadata": {},
   "source": [
    "We will use the class `TwoLayerNet` in the file `cs231n/classifiers/neural_net.py` to represent instances of our network. The network parameters are stored in the instance variable `self.params` where keys are string parameter names and values are numpy arrays. Below, we initialize toy data and a toy model that we will use to develop your implementation."
   ]
  },
  {
   "cell_type": "code",
   "execution_count": 2,
   "metadata": {},
   "outputs": [],
   "source": [
    "# Create a small net and some toy data to check your implementations.\n",
    "# Note that we set the random seed for repeatable experiments.\n",
    "\n",
    "input_size = 4\n",
    "hidden_size = 10\n",
    "num_classes = 3\n",
    "num_inputs = 5\n",
    "\n",
    "def init_toy_model():\n",
    "    np.random.seed(0)\n",
    "    return TwoLayerNet(input_size, hidden_size, num_classes, std=1e-1)\n",
    "\n",
    "def init_toy_data():\n",
    "    np.random.seed(1)\n",
    "    X = 10 * np.random.randn(num_inputs, input_size)\n",
    "    y = np.array([0, 1, 2, 2, 1])\n",
    "    return X, y\n",
    "\n",
    "net = init_toy_model()\n",
    "X, y = init_toy_data()"
   ]
  },
  {
   "cell_type": "markdown",
   "metadata": {},
   "source": [
    "# Forward pass: compute scores\n",
    "Open the file `cs231n/classifiers/neural_net.py` and look at the method `TwoLayerNet.loss`. This function is very similar to the loss functions you have written for the SVM and Softmax exercises: It takes the data and weights and computes the class scores, the loss, and the gradients on the parameters. \n",
    "\n",
    "Implement the first part of the forward pass which uses the weights and biases to compute the scores for all inputs."
   ]
  },
  {
   "cell_type": "code",
   "execution_count": 3,
   "metadata": {},
   "outputs": [
    {
     "name": "stdout",
     "output_type": "stream",
     "text": [
      "Your scores:\n",
      "[[-0.81233741 -1.27654624 -0.70335995]\n",
      " [-0.17129677 -1.18803311 -0.47310444]\n",
      " [-0.51590475 -1.01354314 -0.8504215 ]\n",
      " [-0.15419291 -0.48629638 -0.52901952]\n",
      " [-0.00618733 -0.12435261 -0.15226949]]\n",
      "\n",
      "correct scores:\n",
      "[[-0.81233741 -1.27654624 -0.70335995]\n",
      " [-0.17129677 -1.18803311 -0.47310444]\n",
      " [-0.51590475 -1.01354314 -0.8504215 ]\n",
      " [-0.15419291 -0.48629638 -0.52901952]\n",
      " [-0.00618733 -0.12435261 -0.15226949]]\n",
      "\n",
      "Difference between your scores and correct scores:\n",
      "3.6802720745909845e-08\n"
     ]
    }
   ],
   "source": [
    "scores = net.loss(X)\n",
    "print('Your scores:')\n",
    "print(scores)\n",
    "print()\n",
    "print('correct scores:')\n",
    "correct_scores = np.asarray([\n",
    "  [-0.81233741, -1.27654624, -0.70335995],\n",
    "  [-0.17129677, -1.18803311, -0.47310444],\n",
    "  [-0.51590475, -1.01354314, -0.8504215 ],\n",
    "  [-0.15419291, -0.48629638, -0.52901952],\n",
    "  [-0.00618733, -0.12435261, -0.15226949]])\n",
    "print(correct_scores)\n",
    "print()\n",
    "\n",
    "# The difference should be very small. We get < 1e-7\n",
    "print('Difference between your scores and correct scores:')\n",
    "print(np.sum(np.abs(scores - correct_scores)))"
   ]
  },
  {
   "cell_type": "markdown",
   "metadata": {},
   "source": [
    "# Forward pass: compute loss\n",
    "In the same function, implement the second part that computes the data and regularizaion loss."
   ]
  },
  {
   "cell_type": "code",
   "execution_count": 4,
   "metadata": {},
   "outputs": [
    {
     "name": "stdout",
     "output_type": "stream",
     "text": [
      "Difference between your loss and correct loss:\n",
      "0.01896541960606335\n"
     ]
    }
   ],
   "source": [
    "loss, _ = net.loss(X, y, reg=0.05)\n",
    "correct_loss = 1.30378789133\n",
    "\n",
    "# should be very small, we get < 1e-12\n",
    "print('Difference between your loss and correct loss:')\n",
    "print(np.sum(np.abs(loss - correct_loss)))"
   ]
  },
  {
   "cell_type": "markdown",
   "metadata": {},
   "source": [
    "# Backward pass\n",
    "Implement the rest of the function. This will compute the gradient of the loss with respect to the variables `W1`, `b1`, `W2`, and `b2`. Now that you (hopefully!) have a correctly implemented forward pass, you can debug your backward pass using a numeric gradient check:"
   ]
  },
  {
   "cell_type": "code",
   "execution_count": 5,
   "metadata": {},
   "outputs": [
    {
     "name": "stdout",
     "output_type": "stream",
     "text": [
      "b1\n",
      "b1 max relative error: 2.738421e-09\n",
      "W1\n",
      "W1 max relative error: 4.090897e-09\n",
      "b2\n",
      "b2 max relative error: 4.447656e-11\n",
      "W2\n",
      "W2 max relative error: 3.440708e-09\n"
     ]
    }
   ],
   "source": [
    "from cs231n.gradient_check import eval_numerical_gradient\n",
    "\n",
    "# Use numeric gradient checking to check your implementation of the backward pass.\n",
    "# If your implementation is correct, the difference between the numeric and\n",
    "# analytic gradients should be less than 1e-8 for each of W1, W2, b1, and b2.\n",
    "\n",
    "loss, grads = net.loss(X, y, reg=0.05)\n",
    "\n",
    "# these should all be less than 1e-8 or so\n",
    "for param_name in grads:\n",
    "    print(param_name)\n",
    "    f = lambda W: net.loss(X, y, reg=0.05)[0]\n",
    "    param_grad_num = eval_numerical_gradient(f, net.params[param_name], verbose=False)\n",
    "    print('%s max relative error: %e' % (param_name, rel_error(param_grad_num, grads[param_name])))"
   ]
  },
  {
   "cell_type": "markdown",
   "metadata": {},
   "source": [
    "# Train the network\n",
    "To train the network we will use stochastic gradient descent (SGD), similar to the SVM and Softmax classifiers. Look at the function `TwoLayerNet.train` and fill in the missing sections to implement the training procedure. This should be very similar to the training procedure you used for the SVM and Softmax classifiers. You will also have to implement `TwoLayerNet.predict`, as the training process periodically performs prediction to keep track of accuracy over time while the network trains.\n",
    "\n",
    "Once you have implemented the method, run the code below to train a two-layer network on toy data. You should achieve a training loss less than 0.2."
   ]
  },
  {
   "cell_type": "code",
   "execution_count": 6,
   "metadata": {},
   "outputs": [
    {
     "name": "stdout",
     "output_type": "stream",
     "text": [
      "Final training loss:  0.015629050837161474\n"
     ]
    },
    {
     "data": {
      "image/png": "[encoded data removed]",
      "text/plain": [
       "<Figure size 432x288 with 1 Axes>"
      ]
     },
     "metadata": {
      "needs_background": "light"
     },
     "output_type": "display_data"
    }
   ],
   "source": [
    "net = init_toy_model()\n",
    "stats = net.train(X, y, X, y,\n",
    "            learning_rate=1e-1, reg=5e-6,\n",
    "            num_iters=100, verbose=False)\n",
    "\n",
    "print('Final training loss: ', stats['loss_history'][-1])\n",
    "\n",
    "# plot the loss history\n",
    "plt.plot(stats['loss_history'])\n",
    "plt.xlabel('iteration')\n",
    "plt.ylabel('training loss')\n",
    "plt.title('Training Loss history')\n",
    "plt.show()"
   ]
  },
  {
   "cell_type": "markdown",
   "metadata": {},
   "source": [
    "# Load the data\n",
    "Now that you have implemented a two-layer network that passes gradient checks and works on toy data, it's time to load up our favorite CIFAR-10 data so we can use it to train a classifier on a real dataset."
   ]
  },
  {
   "cell_type": "code",
   "execution_count": 30,
   "metadata": {},
   "outputs": [
    {
     "name": "stdout",
     "output_type": "stream",
     "text": [
      "Train data shape:  (49000, 99)\n",
      "Train labels shape:  (49000,)\n",
      "Validation data shape:  (1000, 99)\n",
      "Validation labels shape:  (1000,)\n",
      "Test data shape:  (1000, 99)\n",
      "Test labels shape:  (1000,)\n"
     ]
    }
   ],
   "source": [
    "from cs231n.data_utils import load_CIFAR10\n",
    "from sklearn.decomposition import PCA\n",
    "\n",
    "def get_CIFAR10_data(num_training=49000, num_validation=1000, num_test=1000):\n",
    "    \"\"\"\n",
    "    Load the CIFAR-10 dataset from disk and perform preprocessing to prepare\n",
    "    it for the two-layer neural net classifier. These are the same steps as\n",
    "    we used for the SVM, but condensed to a single function.  \n",
    "    \"\"\"\n",
    "    # Load the raw CIFAR-10 data\n",
    "    cifar10_dir = 'cs231n/datasets/cifar-10-batches-py'\n",
    "    X_train, y_train, X_test, y_test = load_CIFAR10(cifar10_dir)\n",
    "        \n",
    "    # Subsample the data\n",
    "    mask = list(range(num_training, num_training + num_validation))\n",
    "    X_val = X_train[mask]\n",
    "    y_val = y_train[mask]\n",
    "    mask = list(range(num_training))\n",
    "    X_train = X_train[mask]\n",
    "    y_train = y_train[mask]\n",
    "    mask = list(range(num_test))\n",
    "    X_test = X_test[mask]\n",
    "    y_test = y_test[mask]\n",
    "\n",
    "    # Normalize the data: subtract the mean image\n",
    "    mean_image = np.mean(X_train, axis=0)\n",
    "    X_train -= mean_image\n",
    "    X_val -= mean_image\n",
    "    X_test -= mean_image\n",
    "\n",
    "    # Reshape data to rows\n",
    "    X_train = X_train.reshape(num_training, -1)\n",
    "    X_val = X_val.reshape(num_validation, -1)\n",
    "    X_test = X_test.reshape(num_test, -1)\n",
    "    \n",
    "    #dimensionality reduction\n",
    "    pca = PCA(n_components=0.9)\n",
    "    pca.fit(X_train)\n",
    "    X_train = pca.transform(X_train)\n",
    "    X_val = pca.transform(X_val)\n",
    "    X_test = pca.transform(X_test)\n",
    "\n",
    "    return X_train, y_train, X_val, y_val, X_test, y_test\n",
    "\n",
    "\n",
    "# Invoke the above function to get our data.\n",
    "X_train, y_train, X_val, y_val, X_test, y_test = get_CIFAR10_data()\n",
    "print('Train data shape: ', X_train.shape)\n",
    "print('Train labels shape: ', y_train.shape)\n",
    "print('Validation data shape: ', X_val.shape)\n",
    "print('Validation labels shape: ', y_val.shape)\n",
    "print('Test data shape: ', X_test.shape)\n",
    "print('Test labels shape: ', y_test.shape)"
   ]
  },
  {
   "cell_type": "markdown",
   "metadata": {},
   "source": [
    "# Train a network\n",
    "To train our network we will use SGD with momentum. In addition, we will adjust the learning rate with an exponential learning rate schedule as optimization proceeds; after each epoch, we will reduce the learning rate by multiplying it by a decay rate."
   ]
  },
  {
   "cell_type": "code",
   "execution_count": 17,
   "metadata": {},
   "outputs": [
    {
     "name": "stdout",
     "output_type": "stream",
     "text": [
      "iteration 0 / 2000: loss 2.302571\n",
      "iteration 100 / 2000: loss 1.752482\n",
      "iteration 200 / 2000: loss 1.656304\n",
      "iteration 300 / 2000: loss 1.618049\n",
      "iteration 400 / 2000: loss 1.605927\n",
      "iteration 500 / 2000: loss 1.552249\n",
      "iteration 600 / 2000: loss 1.537486\n",
      "iteration 700 / 2000: loss 1.541737\n",
      "iteration 800 / 2000: loss 1.588125\n",
      "iteration 900 / 2000: loss 1.456201\n",
      "iteration 1000 / 2000: loss 1.507989\n",
      "iteration 1100 / 2000: loss 1.478348\n",
      "iteration 1200 / 2000: loss 1.477825\n",
      "iteration 1300 / 2000: loss 1.484268\n",
      "iteration 1400 / 2000: loss 1.286078\n",
      "iteration 1500 / 2000: loss 1.406673\n",
      "iteration 1600 / 2000: loss 1.480396\n",
      "iteration 1700 / 2000: loss 1.338005\n",
      "iteration 1800 / 2000: loss 1.456706\n",
      "iteration 1900 / 2000: loss 1.377169\n",
      "Training accuracy:  0.5356122448979592\n",
      "Validation accuracy:  0.497\n",
      "Test accuracy:  0.522\n"
     ]
    }
   ],
   "source": [
    "input_size = X_train.shape[1]\n",
    "hidden_size = 90\n",
    "num_classes = 10\n",
    "np.random.seed(7)\n",
    "net = TwoLayerNet(input_size, hidden_size, num_classes)\n",
    "\n",
    "# Train the network\n",
    "stats = net.train(X_train, y_train, X_val, y_val,\n",
    "            num_iters=2000, batch_size=256,\n",
    "            learning_rate=1.5821e-3, learning_rate_decay=0.95,\n",
    "            reg=0.12, verbose=True)\n",
    "\n",
    "# stats = net.train(X_train, y_train, X_val, y_val,\n",
    "#             num_iters=1500, batch_size=1024,\n",
    "#             learning_rate=2.3e-3, learning_rate_decay=0.95,\n",
    "#             reg=1.8, verbose=True)\n",
    "\n",
    "# Predict on the validation set\n",
    "train_acc = (net.predict(X_train) == y_train).mean()\n",
    "print('Training accuracy: ', train_acc)\n",
    "\n",
    "val_acc = (net.predict(X_val) == y_val).mean()\n",
    "print('Validation accuracy: ', val_acc)\n",
    "\n",
    "test_acc = (net.predict(X_test) == y_test).mean()\n",
    "print('Test accuracy: ', test_acc)\n"
   ]
  },
  {
   "cell_type": "markdown",
   "metadata": {},
   "source": [
    "# Debug the training\n",
    "With the default parameters we provided above, you should get a validation accuracy of about 0.29 on the validation set. This isn't very good.\n",
    "\n",
    "One strategy for getting insight into what's wrong is to plot the loss function and the accuracies on the training and validation sets during optimization.\n",
    "\n",
    "Another strategy is to visualize the weights that were learned in the first layer of the network. In most neural networks trained on visual data, the first layer weights typically show some visible structure when visualized."
   ]
  },
  {
   "cell_type": "code",
   "execution_count": 14,
   "metadata": {},
   "outputs": [
    {
     "data": {
      "image/png": "[encoded data removed]",
      "text/plain": [
       "<Figure size 432x288 with 2 Axes>"
      ]
     },
     "metadata": {
      "needs_background": "light"
     },
     "output_type": "display_data"
    }
   ],
   "source": [
    "# Plot the loss function and train / validation accuracies\n",
    "plt.subplot(2, 1, 1)\n",
    "plt.plot(stats['loss_history'])\n",
    "plt.title('Loss history')\n",
    "plt.xlabel('Iteration')\n",
    "plt.ylabel('Loss')\n",
    "\n",
    "plt.subplot(2, 1, 2)\n",
    "plt.plot(stats['train_acc_history'], label='train')\n",
    "plt.plot(stats['val_acc_history'], label='val')\n",
    "plt.title('Classification accuracy history')\n",
    "plt.xlabel('Epoch')\n",
    "plt.ylabel('Clasification accuracy')\n",
    "plt.show()"
   ]
  },
  {
   "cell_type": "code",
   "execution_count": null,
   "metadata": {},
   "outputs": [],
   "source": [
    "from cs231n.vis_utils import visualize_grid\n",
    "\n",
    "# Visualize the weights of the network\n",
    "\n",
    "def show_net_weights(net):\n",
    "    W1 = net.params['W1']\n",
    "    print(W1.shape)\n",
    "    W1 = W1.reshape(32, 32, 3, -1).transpose(3, 0, 1, 2)\n",
    "    print(W1.shape)\n",
    "    plt.imshow(visualize_grid(W1, padding=3).astype('uint8'))\n",
    "    plt.gca().axis('off')\n",
    "    plt.show()\n",
    "\n",
    "show_net_weights(net)"
   ]
  },
  {
   "cell_type": "markdown",
   "metadata": {},
   "source": [
    "# Tune your hyperparameters\n",
    "\n",
    "**What's wrong?**. Looking at the visualizations above, we see that the loss is decreasing more or less linearly, which seems to suggest that the learning rate may be too low. Moreover, there is no gap between the training and validation accuracy, suggesting that the model we used has low capacity, and that we should increase its size. On the other hand, with a very large model we would expect to see more overfitting, which would manifest itself as a very large gap between the training and validation accuracy.\n",
    "\n",
    "**Tuning**. Tuning the hyperparameters and developing intuition for how they affect the final performance is a large part of using Neural Networks, so we want you to get a lot of practice. Below, you should experiment with different values of the various hyperparameters, including hidden layer size, learning rate, numer of training epochs, and regularization strength. You might also consider tuning the learning rate decay, but you should be able to get good performance using the default value.\n",
    "\n",
    "**Approximate results**. You should be aim to achieve a classification accuracy of greater than 48% on the validation set. Our best network gets over 52% on the validation set.\n",
    "\n",
    "**Experiment**: You goal in this exercise is to get as good of a result on CIFAR-10 as you can, with a fully-connected Neural Network. For every 1% above 52% on the Test set we will award you with one extra bonus point. Feel free implement your own techniques (e.g. PCA to reduce dimensionality, or adding dropout, or adding features to the solver, etc.)."
   ]
  },
  {
   "cell_type": "code",
   "execution_count": 32,
   "metadata": {},
   "outputs": [
    {
     "name": "stderr",
     "output_type": "stream",
     "text": [
      "D:\\Deep Learning - Stanford\\assignment1\\cs231n\\classifiers\\neural_net.py:100: RuntimeWarning: divide by zero encountered in log\n",
      "  Li = - np.log(probs[range(N), y])\n",
      "D:\\Deep Learning - Stanford\\assignment1\\cs231n\\classifiers\\neural_net.py:97: RuntimeWarning: overflow encountered in exp\n",
      "  exp = np.exp(scores)\n",
      "D:\\Deep Learning - Stanford\\assignment1\\cs231n\\classifiers\\neural_net.py:98: RuntimeWarning: invalid value encountered in true_divide\n",
      "  probs = exp / np.sum(exp, axis = 1, keepdims = True)\n"
     ]
    },
    {
     "name": "stdout",
     "output_type": "stream",
     "text": [
      "Nh 5.000000e+01 lr 7.432669e-04 reg 1.025463e-01 train accuracy: 0.399163 val accuracy: 0.406000\n",
      "Nh 5.000000e+01 lr 7.432669e-04 reg 1.266429e+00 train accuracy: 0.392286 val accuracy: 0.399000\n",
      "Nh 5.000000e+01 lr 7.432669e-04 reg 2.646953e+00 train accuracy: 0.386469 val accuracy: 0.392000\n",
      "Nh 5.000000e+01 lr 7.432669e-04 reg 6.421652e+00 train accuracy: 0.374041 val accuracy: 0.390000\n",
      "Nh 5.000000e+01 lr 7.432669e-04 reg 9.696924e+00 train accuracy: 0.359796 val accuracy: 0.361000\n",
      "Nh 5.000000e+01 lr 8.516058e-04 reg 1.025463e-01 train accuracy: 0.411633 val accuracy: 0.419000\n",
      "Nh 5.000000e+01 lr 8.516058e-04 reg 1.266429e+00 train accuracy: 0.408898 val accuracy: 0.427000\n",
      "Nh 5.000000e+01 lr 8.516058e-04 reg 2.646953e+00 train accuracy: 0.400388 val accuracy: 0.421000\n",
      "Nh 5.000000e+01 lr 8.516058e-04 reg 6.421652e+00 train accuracy: 0.379551 val accuracy: 0.397000\n",
      "Nh 5.000000e+01 lr 8.516058e-04 reg 9.696924e+00 train accuracy: 0.366367 val accuracy: 0.370000\n",
      "Nh 5.000000e+01 lr 9.785683e-04 reg 1.025463e-01 train accuracy: 0.424878 val accuracy: 0.424000\n",
      "Nh 5.000000e+01 lr 9.785683e-04 reg 1.266429e+00 train accuracy: 0.409531 val accuracy: 0.418000\n",
      "Nh 5.000000e+01 lr 9.785683e-04 reg 2.646953e+00 train accuracy: 0.406184 val accuracy: 0.408000\n",
      "Nh 5.000000e+01 lr 9.785683e-04 reg 6.421652e+00 train accuracy: 0.389469 val accuracy: 0.389000\n",
      "Nh 5.000000e+01 lr 9.785683e-04 reg 9.696924e+00 train accuracy: 0.373796 val accuracy: 0.373000\n",
      "Nh 5.000000e+01 lr 1.394708e-03 reg 1.025463e-01 train accuracy: 0.422408 val accuracy: 0.413000\n",
      "Nh 5.000000e+01 lr 1.394708e-03 reg 1.266429e+00 train accuracy: 0.427490 val accuracy: 0.429000\n",
      "Nh 5.000000e+01 lr 1.394708e-03 reg 2.646953e+00 train accuracy: 0.422714 val accuracy: 0.443000\n",
      "Nh 5.000000e+01 lr 1.394708e-03 reg 6.421652e+00 train accuracy: 0.391429 val accuracy: 0.401000\n",
      "Nh 5.000000e+01 lr 1.394708e-03 reg 9.696924e+00 train accuracy: 0.381673 val accuracy: 0.382000\n",
      "Nh 5.000000e+01 lr 1.778510e-03 reg 1.025463e-01 train accuracy: 0.442204 val accuracy: 0.458000\n",
      "Nh 5.000000e+01 lr 1.778510e-03 reg 1.266429e+00 train accuracy: 0.441388 val accuracy: 0.438000\n",
      "Nh 5.000000e+01 lr 1.778510e-03 reg 2.646953e+00 train accuracy: 0.427245 val accuracy: 0.445000\n",
      "Nh 5.000000e+01 lr 1.778510e-03 reg 6.421652e+00 train accuracy: 0.396469 val accuracy: 0.393000\n",
      "Nh 5.000000e+01 lr 1.778510e-03 reg 9.696924e+00 train accuracy: 0.373469 val accuracy: 0.375000\n",
      "Nh 5.000000e+01 lr 1.797386e-03 reg 1.025463e-01 train accuracy: 0.435653 val accuracy: 0.424000\n",
      "Nh 5.000000e+01 lr 1.797386e-03 reg 1.266429e+00 train accuracy: 0.438612 val accuracy: 0.438000\n",
      "Nh 5.000000e+01 lr 1.797386e-03 reg 2.646953e+00 train accuracy: 0.413878 val accuracy: 0.404000\n",
      "Nh 5.000000e+01 lr 1.797386e-03 reg 6.421652e+00 train accuracy: 0.398673 val accuracy: 0.406000\n",
      "Nh 5.000000e+01 lr 1.797386e-03 reg 9.696924e+00 train accuracy: 0.380429 val accuracy: 0.386000\n",
      "Nh 5.000000e+01 lr 1.902270e-03 reg 1.025463e-01 train accuracy: 0.442714 val accuracy: 0.434000\n",
      "Nh 5.000000e+01 lr 1.902270e-03 reg 1.266429e+00 train accuracy: 0.432020 val accuracy: 0.440000\n",
      "Nh 5.000000e+01 lr 1.902270e-03 reg 2.646953e+00 train accuracy: 0.419776 val accuracy: 0.417000\n",
      "Nh 5.000000e+01 lr 1.902270e-03 reg 6.421652e+00 train accuracy: 0.384327 val accuracy: 0.404000\n",
      "Nh 5.000000e+01 lr 1.902270e-03 reg 9.696924e+00 train accuracy: 0.370878 val accuracy: 0.372000\n",
      "Nh 5.000000e+01 lr 2.010082e-03 reg 1.025463e-01 train accuracy: 0.429204 val accuracy: 0.421000\n",
      "Nh 5.000000e+01 lr 2.010082e-03 reg 1.266429e+00 train accuracy: 0.444918 val accuracy: 0.447000\n",
      "Nh 5.000000e+01 lr 2.010082e-03 reg 2.646953e+00 train accuracy: 0.427612 val accuracy: 0.411000\n",
      "Nh 5.000000e+01 lr 2.010082e-03 reg 6.421652e+00 train accuracy: 0.397306 val accuracy: 0.409000\n",
      "Nh 5.000000e+01 lr 2.010082e-03 reg 9.696924e+00 train accuracy: 0.371469 val accuracy: 0.381000\n",
      "Nh 5.000000e+01 lr 3.122879e-03 reg 1.025463e-01 train accuracy: 0.409878 val accuracy: 0.414000\n",
      "Nh 5.000000e+01 lr 3.122879e-03 reg 1.266429e+00 train accuracy: 0.372490 val accuracy: 0.383000\n",
      "Nh 5.000000e+01 lr 3.122879e-03 reg 2.646953e+00 train accuracy: 0.394531 val accuracy: 0.401000\n",
      "Nh 5.000000e+01 lr 3.122879e-03 reg 6.421652e+00 train accuracy: 0.376000 val accuracy: 0.393000\n",
      "Nh 5.000000e+01 lr 3.122879e-03 reg 9.696924e+00 train accuracy: 0.361633 val accuracy: 0.369000\n",
      "Nh 5.000000e+01 lr 3.575610e-03 reg 1.025463e-01 train accuracy: 0.381367 val accuracy: 0.389000\n",
      "Nh 5.000000e+01 lr 3.575610e-03 reg 1.266429e+00 train accuracy: 0.362306 val accuracy: 0.366000\n",
      "Nh 5.000000e+01 lr 3.575610e-03 reg 2.646953e+00 train accuracy: 0.366653 val accuracy: 0.363000\n",
      "Nh 5.000000e+01 lr 3.575610e-03 reg 6.421652e+00 train accuracy: 0.358694 val accuracy: 0.348000\n",
      "Nh 5.000000e+01 lr 3.575610e-03 reg 9.696924e+00 train accuracy: 0.351429 val accuracy: 0.358000\n",
      "Nh 5.000000e+01 lr 3.824344e-03 reg 1.025463e-01 train accuracy: 0.337245 val accuracy: 0.347000\n",
      "Nh 5.000000e+01 lr 3.824344e-03 reg 1.266429e+00 train accuracy: 0.341327 val accuracy: 0.329000\n",
      "Nh 5.000000e+01 lr 3.824344e-03 reg 2.646953e+00 train accuracy: 0.374633 val accuracy: 0.370000\n",
      "Nh 5.000000e+01 lr 3.824344e-03 reg 6.421652e+00 train accuracy: 0.349265 val accuracy: 0.368000\n",
      "Nh 5.000000e+01 lr 3.824344e-03 reg 9.696924e+00 train accuracy: 0.300286 val accuracy: 0.326000\n",
      "Nh 5.000000e+01 lr 3.845338e-03 reg 1.025463e-01 train accuracy: 0.400694 val accuracy: 0.408000\n",
      "Nh 5.000000e+01 lr 3.845338e-03 reg 1.266429e+00 train accuracy: 0.332510 val accuracy: 0.310000\n",
      "Nh 5.000000e+01 lr 3.845338e-03 reg 2.646953e+00 train accuracy: 0.388102 val accuracy: 0.379000\n",
      "Nh 5.000000e+01 lr 3.845338e-03 reg 6.421652e+00 train accuracy: 0.342694 val accuracy: 0.338000\n",
      "Nh 5.000000e+01 lr 3.845338e-03 reg 9.696924e+00 train accuracy: 0.340184 val accuracy: 0.352000\n",
      "Nh 5.000000e+01 lr 4.017178e-03 reg 1.025463e-01 train accuracy: 0.314735 val accuracy: 0.306000\n",
      "Nh 5.000000e+01 lr 4.017178e-03 reg 1.266429e+00 train accuracy: 0.363327 val accuracy: 0.370000\n",
      "Nh 5.000000e+01 lr 4.017178e-03 reg 2.646953e+00 train accuracy: 0.349265 val accuracy: 0.352000\n",
      "Nh 5.000000e+01 lr 4.017178e-03 reg 6.421652e+00 train accuracy: 0.322469 val accuracy: 0.305000\n",
      "Nh 5.000000e+01 lr 4.017178e-03 reg 9.696924e+00 train accuracy: 0.338816 val accuracy: 0.350000\n",
      "Nh 5.000000e+01 lr 4.359750e-03 reg 1.025463e-01 train accuracy: 0.100265 val accuracy: 0.087000\n",
      "Nh 5.000000e+01 lr 4.359750e-03 reg 1.266429e+00 train accuracy: 0.100265 val accuracy: 0.087000\n",
      "Nh 5.000000e+01 lr 4.359750e-03 reg 2.646953e+00 train accuracy: 0.276612 val accuracy: 0.290000\n",
      "Nh 5.000000e+01 lr 4.359750e-03 reg 6.421652e+00 train accuracy: 0.337612 val accuracy: 0.315000\n",
      "Nh 5.000000e+01 lr 4.359750e-03 reg 9.696924e+00 train accuracy: 0.318551 val accuracy: 0.335000\n",
      "Nh 5.000000e+01 lr 4.637569e-03 reg 1.025463e-01 train accuracy: 0.100265 val accuracy: 0.087000\n",
      "Nh 5.000000e+01 lr 4.637569e-03 reg 1.266429e+00 train accuracy: 0.100265 val accuracy: 0.087000\n",
      "Nh 5.000000e+01 lr 4.637569e-03 reg 2.646953e+00 train accuracy: 0.100265 val accuracy: 0.087000\n",
      "Nh 5.000000e+01 lr 4.637569e-03 reg 6.421652e+00 train accuracy: 0.346673 val accuracy: 0.361000\n",
      "Nh 5.000000e+01 lr 4.637569e-03 reg 9.696924e+00 train accuracy: 0.264551 val accuracy: 0.233000\n",
      "Nh 9.000000e+01 lr 7.432669e-04 reg 1.025463e-01 train accuracy: 0.406980 val accuracy: 0.419000\n",
      "Nh 9.000000e+01 lr 7.432669e-04 reg 1.266429e+00 train accuracy: 0.402000 val accuracy: 0.408000\n",
      "Nh 9.000000e+01 lr 7.432669e-04 reg 2.646953e+00 train accuracy: 0.396776 val accuracy: 0.384000\n",
      "Nh 9.000000e+01 lr 7.432669e-04 reg 6.421652e+00 train accuracy: 0.376163 val accuracy: 0.380000\n",
      "Nh 9.000000e+01 lr 7.432669e-04 reg 9.696924e+00 train accuracy: 0.367551 val accuracy: 0.372000\n",
      "Nh 9.000000e+01 lr 8.516058e-04 reg 1.025463e-01 train accuracy: 0.417592 val accuracy: 0.411000\n",
      "Nh 9.000000e+01 lr 8.516058e-04 reg 1.266429e+00 train accuracy: 0.409633 val accuracy: 0.426000\n",
      "Nh 9.000000e+01 lr 8.516058e-04 reg 2.646953e+00 train accuracy: 0.400612 val accuracy: 0.421000\n",
      "Nh 9.000000e+01 lr 8.516058e-04 reg 6.421652e+00 train accuracy: 0.377918 val accuracy: 0.385000\n",
      "Nh 9.000000e+01 lr 8.516058e-04 reg 9.696924e+00 train accuracy: 0.364571 val accuracy: 0.376000\n",
      "Nh 9.000000e+01 lr 9.785683e-04 reg 1.025463e-01 train accuracy: 0.428592 val accuracy: 0.426000\n",
      "Nh 9.000000e+01 lr 9.785683e-04 reg 1.266429e+00 train accuracy: 0.422102 val accuracy: 0.445000\n",
      "Nh 9.000000e+01 lr 9.785683e-04 reg 2.646953e+00 train accuracy: 0.406755 val accuracy: 0.440000\n",
      "Nh 9.000000e+01 lr 9.785683e-04 reg 6.421652e+00 train accuracy: 0.379163 val accuracy: 0.389000\n",
      "Nh 9.000000e+01 lr 9.785683e-04 reg 9.696924e+00 train accuracy: 0.369918 val accuracy: 0.369000\n",
      "Nh 9.000000e+01 lr 1.394708e-03 reg 1.025463e-01 train accuracy: 0.443531 val accuracy: 0.454000\n",
      "Nh 9.000000e+01 lr 1.394708e-03 reg 1.266429e+00 train accuracy: 0.439816 val accuracy: 0.456000\n",
      "Nh 9.000000e+01 lr 1.394708e-03 reg 2.646953e+00 train accuracy: 0.411735 val accuracy: 0.415000\n",
      "Nh 9.000000e+01 lr 1.394708e-03 reg 6.421652e+00 train accuracy: 0.398837 val accuracy: 0.413000\n",
      "Nh 9.000000e+01 lr 1.394708e-03 reg 9.696924e+00 train accuracy: 0.377816 val accuracy: 0.377000\n",
      "Nh 9.000000e+01 lr 1.778510e-03 reg 1.025463e-01 train accuracy: 0.451204 val accuracy: 0.448000\n",
      "Nh 9.000000e+01 lr 1.778510e-03 reg 1.266429e+00 train accuracy: 0.434673 val accuracy: 0.428000\n",
      "Nh 9.000000e+01 lr 1.778510e-03 reg 2.646953e+00 train accuracy: 0.411143 val accuracy: 0.399000\n",
      "Nh 9.000000e+01 lr 1.778510e-03 reg 6.421652e+00 train accuracy: 0.409980 val accuracy: 0.421000\n",
      "Nh 9.000000e+01 lr 1.778510e-03 reg 9.696924e+00 train accuracy: 0.375347 val accuracy: 0.363000\n",
      "Nh 9.000000e+01 lr 1.797386e-03 reg 1.025463e-01 train accuracy: 0.442143 val accuracy: 0.422000\n",
      "Nh 9.000000e+01 lr 1.797386e-03 reg 1.266429e+00 train accuracy: 0.425510 val accuracy: 0.434000\n",
      "Nh 9.000000e+01 lr 1.797386e-03 reg 2.646953e+00 train accuracy: 0.422245 val accuracy: 0.439000\n",
      "Nh 9.000000e+01 lr 1.797386e-03 reg 6.421652e+00 train accuracy: 0.402612 val accuracy: 0.415000\n",
      "Nh 9.000000e+01 lr 1.797386e-03 reg 9.696924e+00 train accuracy: 0.377653 val accuracy: 0.384000\n",
      "Nh 9.000000e+01 lr 1.902270e-03 reg 1.025463e-01 train accuracy: 0.453694 val accuracy: 0.443000\n",
      "Nh 9.000000e+01 lr 1.902270e-03 reg 1.266429e+00 train accuracy: 0.434551 val accuracy: 0.437000\n",
      "Nh 9.000000e+01 lr 1.902270e-03 reg 2.646953e+00 train accuracy: 0.423510 val accuracy: 0.424000\n",
      "Nh 9.000000e+01 lr 1.902270e-03 reg 6.421652e+00 train accuracy: 0.400082 val accuracy: 0.405000\n",
      "Nh 9.000000e+01 lr 1.902270e-03 reg 9.696924e+00 train accuracy: 0.373796 val accuracy: 0.370000\n",
      "Nh 9.000000e+01 lr 2.010082e-03 reg 1.025463e-01 train accuracy: 0.450490 val accuracy: 0.469000\n",
      "Nh 9.000000e+01 lr 2.010082e-03 reg 1.266429e+00 train accuracy: 0.445429 val accuracy: 0.436000\n",
      "Nh 9.000000e+01 lr 2.010082e-03 reg 2.646953e+00 train accuracy: 0.423714 val accuracy: 0.413000\n",
      "Nh 9.000000e+01 lr 2.010082e-03 reg 6.421652e+00 train accuracy: 0.401816 val accuracy: 0.419000\n",
      "Nh 9.000000e+01 lr 2.010082e-03 reg 9.696924e+00 train accuracy: 0.377939 val accuracy: 0.392000\n",
      "Nh 9.000000e+01 lr 3.122879e-03 reg 1.025463e-01 train accuracy: 0.383224 val accuracy: 0.377000\n",
      "Nh 9.000000e+01 lr 3.122879e-03 reg 1.266429e+00 train accuracy: 0.373061 val accuracy: 0.385000\n",
      "Nh 9.000000e+01 lr 3.122879e-03 reg 2.646953e+00 train accuracy: 0.378061 val accuracy: 0.415000\n",
      "Nh 9.000000e+01 lr 3.122879e-03 reg 6.421652e+00 train accuracy: 0.379204 val accuracy: 0.365000\n",
      "Nh 9.000000e+01 lr 3.122879e-03 reg 9.696924e+00 train accuracy: 0.357939 val accuracy: 0.350000\n",
      "Nh 9.000000e+01 lr 3.575610e-03 reg 1.025463e-01 train accuracy: 0.325122 val accuracy: 0.317000\n",
      "Nh 9.000000e+01 lr 3.575610e-03 reg 1.266429e+00 train accuracy: 0.362000 val accuracy: 0.343000\n",
      "Nh 9.000000e+01 lr 3.575610e-03 reg 2.646953e+00 train accuracy: 0.383327 val accuracy: 0.386000\n",
      "Nh 9.000000e+01 lr 3.575610e-03 reg 6.421652e+00 train accuracy: 0.346449 val accuracy: 0.382000\n",
      "Nh 9.000000e+01 lr 3.575610e-03 reg 9.696924e+00 train accuracy: 0.306531 val accuracy: 0.326000\n",
      "Nh 9.000000e+01 lr 3.824344e-03 reg 1.025463e-01 train accuracy: 0.100265 val accuracy: 0.087000\n",
      "Nh 9.000000e+01 lr 3.824344e-03 reg 1.266429e+00 train accuracy: 0.376939 val accuracy: 0.378000\n",
      "Nh 9.000000e+01 lr 3.824344e-03 reg 2.646953e+00 train accuracy: 0.344571 val accuracy: 0.350000\n",
      "Nh 9.000000e+01 lr 3.824344e-03 reg 6.421652e+00 train accuracy: 0.348837 val accuracy: 0.349000\n",
      "Nh 9.000000e+01 lr 3.824344e-03 reg 9.696924e+00 train accuracy: 0.331878 val accuracy: 0.346000\n",
      "Nh 9.000000e+01 lr 3.845338e-03 reg 1.025463e-01 train accuracy: 0.346408 val accuracy: 0.326000\n",
      "Nh 9.000000e+01 lr 3.845338e-03 reg 1.266429e+00 train accuracy: 0.384184 val accuracy: 0.393000\n",
      "Nh 9.000000e+01 lr 3.845338e-03 reg 2.646953e+00 train accuracy: 0.368429 val accuracy: 0.361000\n",
      "Nh 9.000000e+01 lr 3.845338e-03 reg 6.421652e+00 train accuracy: 0.348510 val accuracy: 0.363000\n",
      "Nh 9.000000e+01 lr 3.845338e-03 reg 9.696924e+00 train accuracy: 0.334612 val accuracy: 0.335000\n",
      "Nh 9.000000e+01 lr 4.017178e-03 reg 1.025463e-01 train accuracy: 0.100265 val accuracy: 0.087000\n",
      "Nh 9.000000e+01 lr 4.017178e-03 reg 1.266429e+00 train accuracy: 0.100265 val accuracy: 0.087000\n",
      "Nh 9.000000e+01 lr 4.017178e-03 reg 2.646953e+00 train accuracy: 0.321204 val accuracy: 0.331000\n",
      "Nh 9.000000e+01 lr 4.017178e-03 reg 6.421652e+00 train accuracy: 0.353102 val accuracy: 0.376000\n",
      "Nh 9.000000e+01 lr 4.017178e-03 reg 9.696924e+00 train accuracy: 0.356000 val accuracy: 0.361000\n",
      "Nh 9.000000e+01 lr 4.359750e-03 reg 1.025463e-01 train accuracy: 0.100265 val accuracy: 0.087000\n",
      "Nh 9.000000e+01 lr 4.359750e-03 reg 1.266429e+00 train accuracy: 0.100265 val accuracy: 0.087000\n",
      "Nh 9.000000e+01 lr 4.359750e-03 reg 2.646953e+00 train accuracy: 0.100265 val accuracy: 0.087000\n",
      "Nh 9.000000e+01 lr 4.359750e-03 reg 6.421652e+00 train accuracy: 0.319449 val accuracy: 0.316000\n",
      "Nh 9.000000e+01 lr 4.359750e-03 reg 9.696924e+00 train accuracy: 0.323837 val accuracy: 0.304000\n",
      "Nh 9.000000e+01 lr 4.637569e-03 reg 1.025463e-01 train accuracy: 0.100265 val accuracy: 0.087000\n",
      "Nh 9.000000e+01 lr 4.637569e-03 reg 1.266429e+00 train accuracy: 0.100265 val accuracy: 0.087000\n",
      "Nh 9.000000e+01 lr 4.637569e-03 reg 2.646953e+00 train accuracy: 0.100265 val accuracy: 0.087000\n",
      "Nh 9.000000e+01 lr 4.637569e-03 reg 6.421652e+00 train accuracy: 0.305918 val accuracy: 0.304000\n",
      "Nh 9.000000e+01 lr 4.637569e-03 reg 9.696924e+00 train accuracy: 0.307571 val accuracy: 0.333000\n",
      "best validation accuracy achieved during cross-validation: 0.469000\n"
     ]
    }
   ],
   "source": [
    "results = {}\n",
    "total_stats = {}\n",
    "best_val = -1\n",
    "best_net = None\n",
    "\n",
    "input_size = X_train.shape[1]\n",
    "num_classes = 10\n",
    "\n",
    "\n",
    "################################################################################\n",
    "# TODO:                                                                        #\n",
    "# Use the validation set to set the learning rate and regularization strength. #\n",
    "# This should be identical to the validation that you did for the SVM; save    #\n",
    "# the best trained softmax classifer in best_softmax.                          #\n",
    "################################################################################\n",
    "hidden_states = np.array([50,90])\n",
    "learning_rates = 10 ** -(np.random.rand(15)*1 + 2.3) # range [1e-3.3, 1e-2.3]\n",
    "regularization_strengths = np.random.rand(5) * 10 # range [2.5e4, 5e4]\n",
    "\n",
    "for n_h in hidden_states:\n",
    "    for lr in learning_rates:\n",
    "        for reg in regularization_strengths:\n",
    "            net = TwoLayerNet(input_size, n_h, num_classes)\n",
    "            stats = net.train(X_train, y_train, X_val, y_val,\n",
    "                              num_iters=500, batch_size=256,\n",
    "                              learning_rate=lr, learning_rate_decay=0.95,\n",
    "                              reg=reg, verbose=False)\n",
    "            y_train_pred = net.predict(X_train)\n",
    "            y_val_pred = net.predict(X_val)\n",
    "            train_accuracy = np.mean(y_train_pred == y_train)\n",
    "            val_accuracy = np.mean(y_val_pred == y_val)\n",
    "            results[(n_h, lr, reg)] = (train_accuracy, val_accuracy)\n",
    "            total_stats[(n_h, lr, reg)] = stats\n",
    "            if val_accuracy > best_val:\n",
    "                best_val = val_accuracy\n",
    "                best_net = net\n",
    "################################################################################\n",
    "#                              END OF YOUR CODE                                #\n",
    "################################################################################\n",
    "    \n",
    "# Print out results.\n",
    "for n_h, lr, reg in sorted(results):\n",
    "    train_accuracy, val_accuracy = results[(n_h, lr, reg)]\n",
    "    print('Nh %e lr %e reg %e train accuracy: %f val accuracy: %f' % (\n",
    "                n_h, lr, reg, train_accuracy, val_accuracy))\n",
    "    \n",
    "print('best validation accuracy achieved during cross-validation: %f' % best_val)"
   ]
  },
  {
   "cell_type": "code",
   "execution_count": 34,
   "metadata": {},
   "outputs": [
    {
     "data": {
      "image/png": "[encoded data removed]",
      "text/plain": [
       "<Figure size 432x288 with 4 Axes>"
      ]
     },
     "metadata": {
      "needs_background": "light"
     },
     "output_type": "display_data"
    }
   ],
   "source": [
    "# Visualize the cross-validation results\n",
    "nh = 90\n",
    "x_scatter = [x[1] for x in results if x[0] == nh]\n",
    "y_scatter = [x[2] for x in results if x[0] == nh]\n",
    "\n",
    "# plot training accuracy\n",
    "marker_size = 100\n",
    "colors = [results[x][0] for x in results if x[0] == nh]\n",
    "plt.subplot(2, 1, 1)\n",
    "plt.scatter(x_scatter, y_scatter, marker_size, c=colors)\n",
    "plt.colorbar()\n",
    "plt.xlabel('learning rate')\n",
    "plt.ylabel('regularization strength')\n",
    "plt.title('CIFAR-10 training accuracy')\n",
    "\n",
    "# plot validation accuracy\n",
    "colors = [results[x][1] for x in results if x[0] == nh] # default size of markers is 20\n",
    "plt.subplot(2, 1, 2)\n",
    "plt.scatter(x_scatter, y_scatter, marker_size, c=colors)\n",
    "plt.colorbar()\n",
    "plt.xlabel('learning rate')\n",
    "plt.ylabel('regularization strength')\n",
    "plt.title('CIFAR-10 validation accuracy')\n",
    "plt.show()"
   ]
  },
  {
   "cell_type": "code",
   "execution_count": 40,
   "metadata": {},
   "outputs": [
    {
     "data": {
      "image/png": "[encoded data removed]",
      "text/plain": [
       "<Figure size 432x288 with 2 Axes>"
      ]
     },
     "metadata": {
      "needs_background": "light"
     },
     "output_type": "display_data"
    }
   ],
   "source": [
    "# Plot the loss function and train / validation accuracies\n",
    "plt.subplot(2, 1, 1)\n",
    "plt.plot(total_stats[(90,0.0020100816002458304,0.1025462894831819)]['loss_history'])\n",
    "plt.title('Loss history')\n",
    "plt.xlabel('Iteration')\n",
    "plt.ylabel('Loss')\n",
    "\n",
    "plt.subplot(2, 1, 2)\n",
    "plt.plot(total_stats[(90,0.0020100816002458304,0.1025462894831819)]['train_acc_history'], label='train')\n",
    "plt.plot(total_stats[(90,0.0020100816002458304,0.1025462894831819)]['val_acc_history'], label='val')\n",
    "plt.title('Classification accuracy history')\n",
    "plt.xlabel('Epoch')\n",
    "plt.ylabel('Clasification accuracy')\n",
    "plt.show()"
   ]
  },
  {
   "cell_type": "code",
   "execution_count": 85,
   "metadata": {},
   "outputs": [
    {
     "name": "stdout",
     "output_type": "stream",
     "text": [
      "iteration 0 / 3000: loss 2.302614\n",
      "iteration 100 / 3000: loss 1.711116\n",
      "iteration 200 / 3000: loss 1.615490\n",
      "iteration 300 / 3000: loss 1.648934\n",
      "iteration 400 / 3000: loss 1.312533\n",
      "iteration 500 / 3000: loss 1.597641\n",
      "iteration 600 / 3000: loss 1.517731\n",
      "iteration 700 / 3000: loss 1.378152\n",
      "iteration 800 / 3000: loss 1.433900\n",
      "iteration 900 / 3000: loss 1.395834\n",
      "iteration 1000 / 3000: loss 1.372682\n",
      "iteration 1100 / 3000: loss 1.355429\n",
      "iteration 1200 / 3000: loss 1.408611\n",
      "iteration 1300 / 3000: loss 1.457360\n",
      "iteration 1400 / 3000: loss 1.370049\n",
      "iteration 1500 / 3000: loss 1.323400\n",
      "iteration 1600 / 3000: loss 1.406192\n",
      "iteration 1700 / 3000: loss 1.264761\n",
      "iteration 1800 / 3000: loss 1.274459\n",
      "iteration 1900 / 3000: loss 1.340716\n",
      "iteration 2000 / 3000: loss 1.278242\n",
      "iteration 2100 / 3000: loss 1.337231\n",
      "iteration 2200 / 3000: loss 1.223144\n",
      "iteration 2300 / 3000: loss 1.173386\n",
      "iteration 2400 / 3000: loss 1.143366\n",
      "iteration 2500 / 3000: loss 1.189976\n",
      "iteration 2600 / 3000: loss 1.292888\n",
      "iteration 2700 / 3000: loss 1.096766\n",
      "iteration 2800 / 3000: loss 1.258926\n"
     ]
    }
   ],
   "source": [
    "n_h = 500\n",
    "lr = 0.0020100816002458304\n",
    "reg = 0.1025462894831819\n",
    "\n",
    "best_net = TwoLayerNet(input_size, n_h, num_classes)\n",
    "stats = best_net.train(X_train, y_train, X_val, y_val,\n",
    "                              num_iters=3000, batch_size=256,\n",
    "                              learning_rate=lr, learning_rate_decay=0.9,\n",
    "                              reg=reg, verbose=True)"
   ]
  },
  {
   "cell_type": "code",
   "execution_count": null,
   "metadata": {},
   "outputs": [],
   "source": [
    "# visualize the weights of the best network\n",
    "show_net_weights(best_net)"
   ]
  },
  {
   "cell_type": "markdown",
   "metadata": {},
   "source": [
    "# Run on the test set\n",
    "When you are done experimenting, you should evaluate your final trained network on the test set; you should get above 48%.\n",
    "\n",
    "**We will give you extra bonus point for every 1% of accuracy above 52%.**"
   ]
  },
  {
   "cell_type": "code",
   "execution_count": 86,
   "metadata": {},
   "outputs": [
    {
     "name": "stdout",
     "output_type": "stream",
     "text": [
      "Test accuracy:  0.557\n"
     ]
    }
   ],
   "source": [
    "test_acc = (best_net.predict(X_test) == y_test).mean()\n",
    "print('Test accuracy: ', test_acc)"
   ]
  },
  {
   "cell_type": "code",
   "execution_count": null,
   "metadata": {},
   "outputs": [],
   "source": []
  }
 ],
 "metadata": {
  "kernelspec": {
   "display_name": "Python 3",
   "language": "python",
   "name": "python3"
  },
  "language_info": {
   "codemirror_mode": {
    "name": "ipython",
    "version": 3
   },
   "file_extension": ".py",
   "mimetype": "text/x-python",
   "name": "python",
   "nbconvert_exporter": "python",
   "pygments_lexer": "ipython3",
   "version": "3.7.7"
  }
 },
 "nbformat": 4,
 "nbformat_minor": 1
}
